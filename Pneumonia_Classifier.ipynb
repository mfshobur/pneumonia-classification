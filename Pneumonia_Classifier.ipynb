{
  "cells": [
    {
      "cell_type": "markdown",
      "metadata": {
        "id": "w7E5MlSy_kkf"
      },
      "source": [
        "# Downlaod Dataset"
      ]
    },
    {
      "cell_type": "code",
      "execution_count": 1,
      "metadata": {
        "colab": {
          "base_uri": "https://localhost:8080/"
        },
        "id": "a259iyEZ6xUr",
        "outputId": "3474a8d9-30f0-4be3-df6a-9823f3c1965d"
      },
      "outputs": [
        {
          "name": "stdout",
          "output_type": "stream",
          "text": [
            "Downloading from https://www.kaggle.com/api/v1/datasets/download/paultimothymooney/chest-xray-pneumonia?dataset_version_number=2...\n"
          ]
        },
        {
          "name": "stderr",
          "output_type": "stream",
          "text": [
            "100%|██████████| 2.29G/2.29G [00:29<00:00, 83.3MB/s]"
          ]
        },
        {
          "name": "stdout",
          "output_type": "stream",
          "text": [
            "Extracting files...\n"
          ]
        },
        {
          "name": "stderr",
          "output_type": "stream",
          "text": [
            "\n"
          ]
        },
        {
          "name": "stdout",
          "output_type": "stream",
          "text": [
            "file downloaded at: /root/.cache/kagglehub/datasets/paultimothymooney/chest-xray-pneumonia/versions/2/chest_xray\n"
          ]
        }
      ],
      "source": [
        "import kagglehub\n",
        "import os\n",
        "\n",
        "# download dataset if not already\n",
        "if not os.path.exists('/root/.cache/kagglehub/datasets/paultimothymooney/chest-xray-pneumonia/versions/2'):\n",
        "\n",
        "  path = kagglehub.dataset_download('paultimothymooney/chest-xray-pneumonia')\n",
        "  path = os.path.join(path, 'chest_xray')\n",
        "  os.listdir(os.path.join(path, 'val'))\n",
        "  print('file downloaded at:', path)\n",
        "else:\n",
        "  path = os.path.join('/root/.cache/kagglehub/datasets/paultimothymooney/chest-xray-pneumonia/versions/2', 'chest_xray')\n",
        "  print('file existed at:', path)"
      ]
    },
    {
      "cell_type": "code",
      "execution_count": null,
      "metadata": {
        "colab": {
          "base_uri": "https://localhost:8080/"
        },
        "id": "I1PvRZ5hg3Wj",
        "outputId": "fc3fb4bd-f049-4005-af73-1bdcf5d926d9"
      },
      "outputs": [
        {
          "data": {
            "text/plain": [
              "['test', 'train', '.DS_Store', 'val']"
            ]
          },
          "execution_count": 2,
          "metadata": {},
          "output_type": "execute_result"
        }
      ],
      "source": [
        "os.listdir(os.path.join(path, 'chest_xray'))"
      ]
    },
    {
      "cell_type": "code",
      "execution_count": 3,
      "metadata": {
        "id": "xhSBREsT8tWy"
      },
      "outputs": [],
      "source": [
        "from PIL import Image\n",
        "\n",
        "import torch\n",
        "import torch.nn as nn\n",
        "import torch.optim as optim\n",
        "from torch.utils.data import Dataset, DataLoader\n",
        "from torchvision import transforms, models\n",
        "from sklearn.metrics import accuracy_score\n",
        "\n",
        "device = torch.device('cuda' if torch.cuda.is_available() else 'cpu')"
      ]
    },
    {
      "cell_type": "code",
      "execution_count": 4,
      "metadata": {
        "id": "PP8c9X4Z_8tW"
      },
      "outputs": [],
      "source": [
        "class PneumoniaDataset(Dataset):\n",
        "  def __init__(self, root_dir, transform=None):\n",
        "    self.root_dir = root_dir\n",
        "    self.transform = transform\n",
        "    self.image_path = []\n",
        "    self.labels = []\n",
        "\n",
        "    for label in ['NORMAL', 'PNEUMONIA']:\n",
        "      folder_dir = os.path.join(root_dir, label)\n",
        "      for file_name in os.listdir(folder_dir):\n",
        "        self.image_path.append(os.path.join(folder_dir, file_name))\n",
        "        self.labels.append(0 if label == 'NORMAL' else 1)\n",
        "\n",
        "  def __getitem__(self, index):\n",
        "    image_path = self.image_path[index]\n",
        "    image = Image.open(image_path).convert('RGB')\n",
        "    label = self.labels[index]\n",
        "\n",
        "    if self.transform:\n",
        "      image = self.transform(image)\n",
        "\n",
        "    return image, label\n",
        "\n",
        "  def __len__(self):\n",
        "    return len(self.image_path)"
      ]
    },
    {
      "cell_type": "code",
      "execution_count": 5,
      "metadata": {
        "id": "dm7rHmCYmIKJ"
      },
      "outputs": [],
      "source": [
        "# necessary for resnet18\n",
        "transform = transforms.Compose([\n",
        "    transforms.Resize((224, 224)),\n",
        "    transforms.ToTensor(),\n",
        "    transforms.Normalize(mean=[0.485, 0.456, 0.406], std=[0.229, 0.224, 0.225])\n",
        "])"
      ]
    },
    {
      "cell_type": "code",
      "execution_count": 6,
      "metadata": {
        "id": "oA5hYHitmTFY"
      },
      "outputs": [],
      "source": [
        "train_dataset = PneumoniaDataset(os.path.join(path, 'train'), transform=transform)\n",
        "test_dataset = PneumoniaDataset(os.path.join(path, 'test'), transform=transform)\n",
        "val_dataset = PneumoniaDataset(os.path.join(path, 'val'), transform=transform)"
      ]
    },
    {
      "cell_type": "code",
      "execution_count": 7,
      "metadata": {
        "id": "_goi4FhunE_4"
      },
      "outputs": [],
      "source": [
        "batch_size = 32\n",
        "\n",
        "train_loader = DataLoader(train_dataset, batch_size=batch_size, shuffle=True)\n",
        "test_loader = DataLoader(test_dataset, batch_size=batch_size, shuffle=False)\n",
        "val_loader = DataLoader(val_dataset, batch_size=batch_size, shuffle=False)"
      ]
    },
    {
      "cell_type": "code",
      "execution_count": 8,
      "metadata": {
        "colab": {
          "base_uri": "https://localhost:8080/"
        },
        "id": "dFZBfGQYnmoD",
        "outputId": "d8131bc0-7efd-4f2d-9cbe-4c0d89013d3b"
      },
      "outputs": [
        {
          "name": "stderr",
          "output_type": "stream",
          "text": [
            "Downloading: \"https://download.pytorch.org/models/resnet18-f37072fd.pth\" to /root/.cache/torch/hub/checkpoints/resnet18-f37072fd.pth\n",
            "100%|██████████| 44.7M/44.7M [00:00<00:00, 136MB/s]\n"
          ]
        }
      ],
      "source": [
        "# load pre-trained resnet18 model\n",
        "model = models.resnet18(weights=models.ResNet18_Weights.IMAGENET1K_V1)\n",
        "model.fc = nn.Linear(model.fc.in_features, 2) # neuron for normal and pneumonia\n",
        "model = model.to(device)"
      ]
    },
    {
      "cell_type": "code",
      "execution_count": 9,
      "metadata": {
        "colab": {
          "base_uri": "https://localhost:8080/"
        },
        "id": "6ki-BJ-KoLX-",
        "outputId": "14b93b6d-414d-406e-fbb3-68b60e636c57"
      },
      "outputs": [
        {
          "name": "stdout",
          "output_type": "stream",
          "text": [
            "Epoch 1/10, Loss: 0.13701067864894867\n",
            "Validation accuracy: 0.9375\n",
            "Epoch 2/10, Loss: 0.05570507422089577\n",
            "Validation accuracy: 0.75\n",
            "Epoch 3/10, Loss: 0.04978053271770477\n",
            "Validation accuracy: 0.875\n",
            "Epoch 4/10, Loss: 0.04051050543785095\n",
            "Validation accuracy: 0.875\n",
            "Epoch 5/10, Loss: 0.02736072614789009\n",
            "Validation accuracy: 0.75\n",
            "Epoch 6/10, Loss: 0.023962484672665596\n",
            "Validation accuracy: 0.875\n",
            "Epoch 7/10, Loss: 0.02764562889933586\n",
            "Validation accuracy: 0.625\n",
            "Epoch 8/10, Loss: 0.028442004695534706\n",
            "Validation accuracy: 0.8125\n",
            "Epoch 9/10, Loss: 0.020580146461725235\n",
            "Validation accuracy: 0.6875\n",
            "Epoch 10/10, Loss: 0.003951539751142263\n",
            "Validation accuracy: 0.9375\n"
          ]
        }
      ],
      "source": [
        "# training function\n",
        "criterion = nn.CrossEntropyLoss()\n",
        "optimizer = optim.Adam(model.parameters(), lr=0.001)\n",
        "num_epochs = 10\n",
        "\n",
        "for epoch in range(num_epochs):\n",
        "  model.train()\n",
        "  running_loss = 0.0\n",
        "\n",
        "  for images, labels in train_loader:\n",
        "    images = images.to(device)\n",
        "    labels = labels.to(device)\n",
        "\n",
        "    optimizer.zero_grad()\n",
        "\n",
        "    logits = model(images)\n",
        "    loss = criterion(logits, labels)\n",
        "\n",
        "    loss.backward()\n",
        "    optimizer.step()\n",
        "\n",
        "    running_loss += loss\n",
        "\n",
        "  print(f\"Epoch {epoch+1}/{num_epochs}, Loss: {running_loss / len(train_loader)}\")\n",
        "\n",
        "  # validate the model\n",
        "  model.eval()\n",
        "  val_labels = []\n",
        "  val_preds = []\n",
        "\n",
        "  for images, labels in val_loader:\n",
        "    with torch.no_grad():\n",
        "      images = images.to(device)\n",
        "      labels = labels.to(device)\n",
        "\n",
        "      logits = model(images)\n",
        "\n",
        "      _, preds = torch.max(logits, 1)\n",
        "\n",
        "      val_labels.extend(labels.cpu().numpy())\n",
        "      val_preds.extend(preds.cpu().numpy())\n",
        "\n",
        "  val_accuracy = accuracy_score(val_labels, val_preds)\n",
        "  print('Validation accuracy:', val_accuracy)"
      ]
    },
    {
      "cell_type": "code",
      "execution_count": 10,
      "metadata": {
        "colab": {
          "base_uri": "https://localhost:8080/"
        },
        "id": "UBoW2SAASMuL",
        "outputId": "cde01d3e-7ce6-4375-a969-f31cf14feed3"
      },
      "outputs": [
        {
          "name": "stdout",
          "output_type": "stream",
          "text": [
            "Test accuracy: 0.7451923076923077\n"
          ]
        }
      ],
      "source": [
        "# test the model on unseen data\n",
        "model.eval()\n",
        "test_labels = []\n",
        "test_preds = []\n",
        "\n",
        "for images, labels in test_loader:\n",
        "  images = images.to(device)\n",
        "  labels = labels.to(device)\n",
        "\n",
        "  with torch.no_grad():\n",
        "    logits = model(images)\n",
        "  _, preds = torch.max(logits, 1)\n",
        "\n",
        "  test_labels.extend(labels.cpu().numpy())\n",
        "  test_preds.extend(preds.cpu().numpy())\n",
        "\n",
        "test_accuracy = accuracy_score(test_labels, test_preds)\n",
        "print('Test accuracy:', test_accuracy)"
      ]
    },
    {
      "cell_type": "code",
      "execution_count": 11,
      "metadata": {
        "id": "JHOQdAJ2TG2d"
      },
      "outputs": [],
      "source": [
        "# save the model\n",
        "torch.save(model.state_dict(), 'pneumonia_classifier.pth')"
      ]
    }
  ],
  "metadata": {
    "accelerator": "GPU",
    "colab": {
      "gpuType": "T4",
      "provenance": []
    },
    "kernelspec": {
      "display_name": "Python 3",
      "name": "python3"
    },
    "language_info": {
      "name": "python"
    }
  },
  "nbformat": 4,
  "nbformat_minor": 0
}
